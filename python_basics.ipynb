{
 "cells": [
  {
   "cell_type": "code",
   "execution_count": 19,
   "id": "75733205-a8e4-4581-a8c3-3d36d6980c30",
   "metadata": {},
   "outputs": [
    {
     "name": "stdout",
     "output_type": "stream",
     "text": [
      "The Zen of Python, by Tim Peters\n",
      "\n",
      "Beautiful is better than ugly.\n",
      "Explicit is better than implicit.\n",
      "Simple is better than complex.\n",
      "Complex is better than complicated.\n",
      "Flat is better than nested.\n",
      "Sparse is better than dense.\n",
      "Readability counts.\n",
      "Special cases aren't special enough to break the rules.\n",
      "Although practicality beats purity.\n",
      "Errors should never pass silently.\n",
      "Unless explicitly silenced.\n",
      "In the face of ambiguity, refuse the temptation to guess.\n",
      "There should be one-- and preferably only one --obvious way to do it.\n",
      "Although that way may not be obvious at first unless you're Dutch.\n",
      "Now is better than never.\n",
      "Although never is often better than *right* now.\n",
      "If the implementation is hard to explain, it's a bad idea.\n",
      "If the implementation is easy to explain, it may be a good idea.\n",
      "Namespaces are one honking great idea -- let's do more of those!\n"
     ]
    }
   ],
   "source": [
    "import this"
   ]
  },
  {
   "cell_type": "code",
   "execution_count": null,
   "id": "c3bd22ba-2c3d-49b6-8399-ea1edd8efa5c",
   "metadata": {},
   "outputs": [],
   "source": []
  },
  {
   "cell_type": "code",
   "execution_count": null,
   "id": "dd2433d9-488b-4b10-bddd-5c811bb2be6d",
   "metadata": {},
   "outputs": [],
   "source": [
    "### BASICS"
   ]
  },
  {
   "cell_type": "code",
   "execution_count": 4,
   "id": "bd4d8c63-3638-4e98-933b-cd8d54bee395",
   "metadata": {},
   "outputs": [
    {
     "data": {
      "text/plain": [
       "int"
      ]
     },
     "execution_count": 4,
     "metadata": {},
     "output_type": "execute_result"
    }
   ],
   "source": [
    "int_var = 1\n",
    "str_var = 'Hundred'\n",
    "float_var = 12.8\n",
    "\n",
    "type(int_var)"
   ]
  },
  {
   "cell_type": "code",
   "execution_count": 2,
   "id": "fb53695e-a9c3-452e-8597-ffefe2dc2e98",
   "metadata": {},
   "outputs": [
    {
     "data": {
      "text/plain": [
       "float"
      ]
     },
     "execution_count": 2,
     "metadata": {},
     "output_type": "execute_result"
    }
   ],
   "source": [
    "float_var = 12.8\n",
    "type(float_var)"
   ]
  },
  {
   "cell_type": "code",
   "execution_count": 3,
   "id": "8e841d78-a8dc-4787-8253-7654847a6d32",
   "metadata": {},
   "outputs": [
    {
     "data": {
      "text/plain": [
       "101"
      ]
     },
     "execution_count": 3,
     "metadata": {},
     "output_type": "execute_result"
    }
   ],
   "source": [
    "1 + 100"
   ]
  },
  {
   "cell_type": "code",
   "execution_count": 4,
   "id": "1bb2a4cf-ae11-4dc5-8c05-3739e56fcb2c",
   "metadata": {},
   "outputs": [
    {
     "data": {
      "text/plain": [
       "0.01"
      ]
     },
     "execution_count": 4,
     "metadata": {},
     "output_type": "execute_result"
    }
   ],
   "source": [
    "1/100"
   ]
  },
  {
   "cell_type": "code",
   "execution_count": 5,
   "id": "9a3e7bf7-7bd5-4c1c-b53e-58e465ed9e41",
   "metadata": {},
   "outputs": [
    {
     "data": {
      "text/plain": [
       "3"
      ]
     },
     "execution_count": 5,
     "metadata": {},
     "output_type": "execute_result"
    }
   ],
   "source": [
    "7//2"
   ]
  },
  {
   "cell_type": "code",
   "execution_count": 6,
   "id": "18948c3b-bbc9-4a49-9867-b073bccfb5d9",
   "metadata": {},
   "outputs": [
    {
     "data": {
      "text/plain": [
       "0"
      ]
     },
     "execution_count": 6,
     "metadata": {},
     "output_type": "execute_result"
    }
   ],
   "source": [
    "100 % 1"
   ]
  },
  {
   "cell_type": "code",
   "execution_count": 7,
   "id": "681ded80-7d82-4f7b-81b1-c41b489b8e1d",
   "metadata": {},
   "outputs": [
    {
     "data": {
      "text/plain": [
       "2.7048138294215285"
      ]
     },
     "execution_count": 7,
     "metadata": {},
     "output_type": "execute_result"
    }
   ],
   "source": [
    "1.01 ** 100"
   ]
  },
  {
   "cell_type": "code",
   "execution_count": 8,
   "id": "b939c675-70e1-4386-ace0-f837595f4911",
   "metadata": {},
   "outputs": [],
   "source": [
    "str_var = 'One'\n",
    "str_var2 = 'Hundred'"
   ]
  },
  {
   "cell_type": "code",
   "execution_count": 9,
   "id": "ccf7e82b-5096-4bf4-bc57-22202fc8bc56",
   "metadata": {},
   "outputs": [
    {
     "data": {
      "text/plain": [
       "'OneHundred'"
      ]
     },
     "execution_count": 9,
     "metadata": {},
     "output_type": "execute_result"
    }
   ],
   "source": [
    "str_var + str_var2"
   ]
  },
  {
   "cell_type": "code",
   "execution_count": 10,
   "id": "4b559130-5edd-4611-ba20-93cc3aab1fbe",
   "metadata": {},
   "outputs": [
    {
     "data": {
      "text/plain": [
       "False"
      ]
     },
     "execution_count": 10,
     "metadata": {},
     "output_type": "execute_result"
    }
   ],
   "source": [
    "'a string' == 'A string'"
   ]
  },
  {
   "cell_type": "code",
   "execution_count": 11,
   "id": "77ef8fbf-542c-42e4-8cdf-bf3b9cab1d48",
   "metadata": {},
   "outputs": [
    {
     "data": {
      "text/plain": [
       "True"
      ]
     },
     "execution_count": 11,
     "metadata": {},
     "output_type": "execute_result"
    }
   ],
   "source": [
    "'abc' == 'abc'"
   ]
  },
  {
   "cell_type": "code",
   "execution_count": 12,
   "id": "dfe7f91b-cef4-4655-9486-67a182e3a50c",
   "metadata": {},
   "outputs": [],
   "source": [
    "sentence = 'This IS A String'"
   ]
  },
  {
   "cell_type": "code",
   "execution_count": 13,
   "id": "c00bcda2-fe9e-4d65-ba63-d95ca94fe337",
   "metadata": {},
   "outputs": [
    {
     "data": {
      "text/plain": [
       "'This is a string'"
      ]
     },
     "execution_count": 13,
     "metadata": {},
     "output_type": "execute_result"
    }
   ],
   "source": [
    "sentence.capitalize()"
   ]
  },
  {
   "cell_type": "code",
   "execution_count": 14,
   "id": "d9314952-282a-4c59-bfa2-62ea2c63579b",
   "metadata": {},
   "outputs": [
    {
     "data": {
      "text/plain": [
       "'This Is A String To Be Titled'"
      ]
     },
     "execution_count": 14,
     "metadata": {},
     "output_type": "execute_result"
    }
   ],
   "source": [
    "sentence_2 = 'this is a string to be titled'\n",
    "sentence_2.title()"
   ]
  },
  {
   "cell_type": "code",
   "execution_count": 15,
   "id": "6018c070-b14c-41da-95ba-0169e40683ee",
   "metadata": {},
   "outputs": [
    {
     "data": {
      "text/plain": [
       "'THIS IS A STRING'"
      ]
     },
     "execution_count": 15,
     "metadata": {},
     "output_type": "execute_result"
    }
   ],
   "source": [
    "sentence.upper()"
   ]
  },
  {
   "cell_type": "code",
   "execution_count": 16,
   "id": "d5679194-3162-4f82-9555-2c06aee2e28f",
   "metadata": {},
   "outputs": [
    {
     "data": {
      "text/plain": [
       "'this is a string'"
      ]
     },
     "execution_count": 16,
     "metadata": {},
     "output_type": "execute_result"
    }
   ],
   "source": [
    "sentence.lower()"
   ]
  },
  {
   "cell_type": "code",
   "execution_count": 17,
   "id": "ac76986b-7cf1-47b4-a585-d7c7b67a5c77",
   "metadata": {},
   "outputs": [
    {
     "data": {
      "text/plain": [
       "['This', 'IS', 'A', 'String']"
      ]
     },
     "execution_count": 17,
     "metadata": {},
     "output_type": "execute_result"
    }
   ],
   "source": [
    "sentence.split()"
   ]
  },
  {
   "cell_type": "code",
   "execution_count": 18,
   "id": "c7018d89-255a-496f-a3f7-6ddfde77de10",
   "metadata": {},
   "outputs": [
    {
     "data": {
      "text/plain": [
       "'This project was awesome'"
      ]
     },
     "execution_count": 18,
     "metadata": {},
     "output_type": "execute_result"
    }
   ],
   "source": [
    "str1 = 'This movie was awesome'\n",
    "str1.replace('movie', 'project')"
   ]
  },
  {
   "cell_type": "code",
   "execution_count": null,
   "id": "e9026445-65e8-463e-9d57-8c390642dfce",
   "metadata": {},
   "outputs": [],
   "source": []
  },
  {
   "cell_type": "code",
   "execution_count": null,
   "id": "d7ce3482-3c62-49b3-88e2-2fd269393fc0",
   "metadata": {},
   "outputs": [],
   "source": [
    "### DATA STRUCTURES"
   ]
  },
  {
   "cell_type": "code",
   "execution_count": 20,
   "id": "cb532737-d43e-4c80-a6f7-1dc3be1a4db3",
   "metadata": {},
   "outputs": [
    {
     "name": "stdout",
     "output_type": "stream",
     "text": [
      "['Mon', 'Tue', 'Wed', 'Thur', 'Fri']\n"
     ]
    }
   ],
   "source": [
    "week_days = ['Mon', 'Tue', 'Wed', 'Thur', 'Fri']\n",
    "even_numbers = [2, 4, 6, 8, 10]\n",
    "mixed_list = ['Mon', 1, 'Tue', 2, 'Wed', 3]\n",
    "\n",
    "print(week_days)"
   ]
  },
  {
   "cell_type": "code",
   "execution_count": 22,
   "id": "35e6b92c-ee5b-4aa8-975e-d6cbbfc62218",
   "metadata": {},
   "outputs": [
    {
     "name": "stdout",
     "output_type": "stream",
     "text": [
      "0\n",
      "1\n",
      "2\n",
      "3\n",
      "4\n"
     ]
    }
   ],
   "source": [
    "nums = range(5)\n",
    "\n",
    "for i in nums:\n",
    "    print(i)"
   ]
  },
  {
   "cell_type": "code",
   "execution_count": 23,
   "id": "813c09fd-00e1-43c6-bfe7-a0ca12637f3d",
   "metadata": {},
   "outputs": [
    {
     "data": {
      "text/plain": [
       "'Mon'"
      ]
     },
     "execution_count": 23,
     "metadata": {},
     "output_type": "execute_result"
    }
   ],
   "source": [
    "week_days[0]"
   ]
  },
  {
   "cell_type": "code",
   "execution_count": 24,
   "id": "1eaefd4b-3305-4ac3-a2bb-78ad8ed37e41",
   "metadata": {},
   "outputs": [
    {
     "data": {
      "text/plain": [
       "6"
      ]
     },
     "execution_count": 24,
     "metadata": {},
     "output_type": "execute_result"
    }
   ],
   "source": [
    "even_numbers[2]"
   ]
  },
  {
   "cell_type": "code",
   "execution_count": 25,
   "id": "9ff4b35b-aa63-4700-8180-0f645ed94e6a",
   "metadata": {},
   "outputs": [
    {
     "name": "stdout",
     "output_type": "stream",
     "text": [
      "10\n"
     ]
    }
   ],
   "source": [
    "print(even_numbers[-1])"
   ]
  },
  {
   "cell_type": "code",
   "execution_count": 26,
   "id": "d152fc41-834f-462e-9a61-9343bac235d3",
   "metadata": {},
   "outputs": [
    {
     "data": {
      "text/plain": [
       "['Mon', 'Tue', 'Wed']"
      ]
     },
     "execution_count": 26,
     "metadata": {},
     "output_type": "execute_result"
    }
   ],
   "source": [
    "week_days[0:3]"
   ]
  },
  {
   "cell_type": "code",
   "execution_count": 27,
   "id": "f0a27626-859d-4813-a614-1afba87cb553",
   "metadata": {},
   "outputs": [
    {
     "data": {
      "text/plain": [
       "['Mon', 'Tue', 'Wed']"
      ]
     },
     "execution_count": 27,
     "metadata": {},
     "output_type": "execute_result"
    }
   ],
   "source": [
    "week_days[:3]"
   ]
  },
  {
   "cell_type": "code",
   "execution_count": 28,
   "id": "261388db-3475-48b4-9c39-84eb83649f38",
   "metadata": {},
   "outputs": [
    {
     "data": {
      "text/plain": [
       "['Mon', 'Tue', 'Wed', 'Thur']"
      ]
     },
     "execution_count": 28,
     "metadata": {},
     "output_type": "execute_result"
    }
   ],
   "source": [
    "week_days[:-1]"
   ]
  },
  {
   "cell_type": "code",
   "execution_count": 29,
   "id": "76cf3b0c-cb61-4e0e-8965-26762cfb7f4f",
   "metadata": {},
   "outputs": [
    {
     "data": {
      "text/plain": [
       "['Fri']"
      ]
     },
     "execution_count": 29,
     "metadata": {},
     "output_type": "execute_result"
    }
   ],
   "source": [
    "week_days[-1:]"
   ]
  },
  {
   "cell_type": "code",
   "execution_count": 30,
   "id": "5b6042b1-4a48-4a02-be8a-2e38ce21a84f",
   "metadata": {},
   "outputs": [
    {
     "data": {
      "text/plain": [
       "['Tue', 'Wed', 'Thur', 'Fri']"
      ]
     },
     "execution_count": 30,
     "metadata": {},
     "output_type": "execute_result"
    }
   ],
   "source": [
    "week_days[-4:]"
   ]
  },
  {
   "cell_type": "code",
   "execution_count": 31,
   "id": "f2de6c3f-2f54-4dd1-a81c-02b4152f46da",
   "metadata": {},
   "outputs": [
    {
     "data": {
      "text/plain": [
       "['Mon', 'Tue', 'Wed', 'Thur', 'Fri']"
      ]
     },
     "execution_count": 31,
     "metadata": {},
     "output_type": "execute_result"
    }
   ],
   "source": [
    "week_days[:]"
   ]
  },
  {
   "cell_type": "code",
   "execution_count": 32,
   "id": "79a2906b-e7cf-40bc-ae1c-060e997ae274",
   "metadata": {},
   "outputs": [
    {
     "data": {
      "text/plain": [
       "['James', 'Jean', 'Sebastian', 'Prit']"
      ]
     },
     "execution_count": 32,
     "metadata": {},
     "output_type": "execute_result"
    }
   ],
   "source": [
    "names = ['James', 'Jean', 'Sebastian', 'Prit']\n",
    "names"
   ]
  },
  {
   "cell_type": "code",
   "execution_count": 33,
   "id": "e3c482d9-7bac-4de5-b45d-461519a88d99",
   "metadata": {},
   "outputs": [
    {
     "data": {
      "text/plain": [
       "['James', 'Nyandwi', 'Ras', 'Prit']"
      ]
     },
     "execution_count": 33,
     "metadata": {},
     "output_type": "execute_result"
    }
   ],
   "source": [
    "names[1:3] = ['Nyandwi', 'Ras']\n",
    "names"
   ]
  },
  {
   "cell_type": "code",
   "execution_count": 34,
   "id": "96e74505-1b9d-4847-b2fb-173fb281441a",
   "metadata": {},
   "outputs": [
    {
     "data": {
      "text/plain": [
       "['Nyandwi', 'Ras']"
      ]
     },
     "execution_count": 34,
     "metadata": {},
     "output_type": "execute_result"
    }
   ],
   "source": [
    "names[1:3]"
   ]
  },
  {
   "cell_type": "code",
   "execution_count": 35,
   "id": "aeec1d03-4be3-4aa0-a73d-bd226f3e714f",
   "metadata": {},
   "outputs": [
    {
     "data": {
      "text/plain": [
       "['Nyandwi']"
      ]
     },
     "execution_count": 35,
     "metadata": {},
     "output_type": "execute_result"
    }
   ],
   "source": [
    "names[1:2]"
   ]
  },
  {
   "cell_type": "code",
   "execution_count": 36,
   "id": "dba190c9-e2b4-4d63-98cf-bc091be77bb4",
   "metadata": {},
   "outputs": [
    {
     "data": {
      "text/plain": [
       "[]"
      ]
     },
     "execution_count": 36,
     "metadata": {},
     "output_type": "execute_result"
    }
   ],
   "source": [
    "names[1:1]"
   ]
  },
  {
   "cell_type": "code",
   "execution_count": 38,
   "id": "e34e8253-5a8a-4bd2-bb4b-4e8e17cbf6a9",
   "metadata": {},
   "outputs": [
    {
     "data": {
      "text/plain": [
       "['James', 'Nyandwi', 'Ras', 'Prit']"
      ]
     },
     "execution_count": 38,
     "metadata": {},
     "output_type": "execute_result"
    }
   ],
   "source": [
    "names"
   ]
  },
  {
   "cell_type": "code",
   "execution_count": 39,
   "id": "7d9a4408-3d12-4642-ab6d-0b7b0493b878",
   "metadata": {},
   "outputs": [],
   "source": [
    "del names[1]"
   ]
  },
  {
   "cell_type": "code",
   "execution_count": 40,
   "id": "9c612f40-5e26-488e-afb3-47e0dcb2242b",
   "metadata": {},
   "outputs": [
    {
     "data": {
      "text/plain": [
       "['James', 'Ras', 'Prit']"
      ]
     },
     "execution_count": 40,
     "metadata": {},
     "output_type": "execute_result"
    }
   ],
   "source": [
    "names"
   ]
  },
  {
   "cell_type": "code",
   "execution_count": 41,
   "id": "11d6f292-2f2a-42cc-a2b9-d6b50556d95e",
   "metadata": {},
   "outputs": [
    {
     "data": {
      "text/plain": [
       "['James', 'Jean', 'Prit']"
      ]
     },
     "execution_count": 41,
     "metadata": {},
     "output_type": "execute_result"
    }
   ],
   "source": [
    "names = ['James', 'Jean', 'Sebastian', 'Prit']\n",
    "names.pop(2)\n",
    "names"
   ]
  },
  {
   "cell_type": "code",
   "execution_count": 42,
   "id": "263095ec-b663-4ed9-a0e2-f3a8b0758cdc",
   "metadata": {},
   "outputs": [],
   "source": [
    "names.append('Jac')\n",
    "names.append('Jess')"
   ]
  },
  {
   "cell_type": "code",
   "execution_count": 43,
   "id": "2f9ae386-42eb-4087-abe5-f17acaf610da",
   "metadata": {},
   "outputs": [
    {
     "data": {
      "text/plain": [
       "['James', 'Jean', 'Prit', 'Jac', 'Jess']"
      ]
     },
     "execution_count": 43,
     "metadata": {},
     "output_type": "execute_result"
    }
   ],
   "source": [
    "names"
   ]
  },
  {
   "cell_type": "code",
   "execution_count": 44,
   "id": "626dd00e-72f2-4d82-b7c4-efcdb100b04a",
   "metadata": {},
   "outputs": [
    {
     "name": "stdout",
     "output_type": "stream",
     "text": [
      "James\n",
      "Jean\n",
      "Sebastian\n",
      "Prit\n"
     ]
    }
   ],
   "source": [
    "names = ['James', 'Jean', 'Sebastian', 'Prit']\n",
    "\n",
    "for name in names:\n",
    "    print(name)"
   ]
  },
  {
   "cell_type": "code",
   "execution_count": 45,
   "id": "445e550a-eb55-4b93-9327-21f633c510dd",
   "metadata": {},
   "outputs": [],
   "source": [
    "nums = [1, 2, 3, 6]"
   ]
  },
  {
   "cell_type": "code",
   "execution_count": 46,
   "id": "eadb24fc-7801-4a09-ae67-a1c726794912",
   "metadata": {},
   "outputs": [
    {
     "data": {
      "text/plain": [
       "[2, 4, 6, 10]"
      ]
     },
     "execution_count": 46,
     "metadata": {},
     "output_type": "execute_result"
    }
   ],
   "source": [
    "nums_new = []\n",
    "\n",
    "for i in range(len(nums)):\n",
    "    num = nums[i] + i + 1\n",
    "    nums_new.append(num)\n",
    "\n",
    "nums_new"
   ]
  },
  {
   "cell_type": "code",
   "execution_count": 47,
   "id": "6f13b5ec-59a8-4e6e-ad92-516824c24194",
   "metadata": {},
   "outputs": [
    {
     "data": {
      "text/plain": [
       "[None, None, None, None, None]"
      ]
     },
     "execution_count": 47,
     "metadata": {},
     "output_type": "execute_result"
    }
   ],
   "source": [
    "[None] * 5"
   ]
  },
  {
   "cell_type": "code",
   "execution_count": 48,
   "id": "31ff8d30-2195-4b8b-8ba0-3afad30228ed",
   "metadata": {},
   "outputs": [
    {
     "data": {
      "text/plain": [
       "[True, True, True, True]"
      ]
     },
     "execution_count": 48,
     "metadata": {},
     "output_type": "execute_result"
    }
   ],
   "source": [
    "[True] * 4"
   ]
  },
  {
   "cell_type": "code",
   "execution_count": 49,
   "id": "dd833a7a-8567-40d6-b91b-f8e3110a0062",
   "metadata": {},
   "outputs": [
    {
     "data": {
      "text/plain": [
       "[1, 2, 3, 4, 1, 2, 3, 4, 1, 2, 3, 4]"
      ]
     },
     "execution_count": 49,
     "metadata": {},
     "output_type": "execute_result"
    }
   ],
   "source": [
    "[1,2,3,4]*3"
   ]
  },
  {
   "cell_type": "code",
   "execution_count": 50,
   "id": "41b116ef-4453-4149-9737-7e9699fe3a53",
   "metadata": {},
   "outputs": [
    {
     "data": {
      "text/plain": [
       "[2, 8, 10, 12, 14, 16, 20]"
      ]
     },
     "execution_count": 50,
     "metadata": {},
     "output_type": "execute_result"
    }
   ],
   "source": [
    "even_numbers = [2,14,16,12,20,8,10]\n",
    "\n",
    "even_numbers.sort()\n",
    "\n",
    "even_numbers"
   ]
  },
  {
   "cell_type": "code",
   "execution_count": 51,
   "id": "f2f6b7ce-3abe-4a04-9e62-68cf1b73ad6e",
   "metadata": {},
   "outputs": [
    {
     "data": {
      "text/plain": [
       "[20, 16, 14, 12, 10, 8, 2]"
      ]
     },
     "execution_count": 51,
     "metadata": {},
     "output_type": "execute_result"
    }
   ],
   "source": [
    "even_numbers.reverse()\n",
    "even_numbers"
   ]
  },
  {
   "cell_type": "code",
   "execution_count": 52,
   "id": "446bb727-29a4-4d2b-80cd-84ed3250f986",
   "metadata": {},
   "outputs": [
    {
     "data": {
      "text/plain": [
       "[2, 14, 16, 12, 20, 8, 10, 40]"
      ]
     },
     "execution_count": 52,
     "metadata": {},
     "output_type": "execute_result"
    }
   ],
   "source": [
    "even_numbers = [2,14,16,12,20,8,10]\n",
    "\n",
    "even_numbers.append(40)\n",
    "even_numbers"
   ]
  },
  {
   "cell_type": "code",
   "execution_count": 53,
   "id": "df6637ed-791a-43e7-8196-ed5b07c6c77a",
   "metadata": {},
   "outputs": [
    {
     "data": {
      "text/plain": [
       "[14, 16, 12, 20, 8, 10, 40]"
      ]
     },
     "execution_count": 53,
     "metadata": {},
     "output_type": "execute_result"
    }
   ],
   "source": [
    "even_numbers.remove(2)\n",
    "even_numbers"
   ]
  },
  {
   "cell_type": "code",
   "execution_count": 54,
   "id": "1afa87ca-7973-4723-8dec-5b0827a2867e",
   "metadata": {},
   "outputs": [
    {
     "data": {
      "text/plain": [
       "16"
      ]
     },
     "execution_count": 54,
     "metadata": {},
     "output_type": "execute_result"
    }
   ],
   "source": [
    "even_numbers.pop(1)"
   ]
  },
  {
   "cell_type": "code",
   "execution_count": 55,
   "id": "ca4d2830-9825-4e10-8a6f-3f497a90482b",
   "metadata": {},
   "outputs": [
    {
     "data": {
      "text/plain": [
       "40"
      ]
     },
     "execution_count": 55,
     "metadata": {},
     "output_type": "execute_result"
    }
   ],
   "source": [
    "even_numbers.pop()"
   ]
  },
  {
   "cell_type": "code",
   "execution_count": 56,
   "id": "61736fb6-74e1-4dfc-bb4b-6ea0ba2bd27d",
   "metadata": {},
   "outputs": [
    {
     "data": {
      "text/plain": [
       "['A', 'p', 'p', 'l', 'e']"
      ]
     },
     "execution_count": 56,
     "metadata": {},
     "output_type": "execute_result"
    }
   ],
   "source": [
    "str1 = 'Apple'\n",
    "\n",
    "list(str1)"
   ]
  },
  {
   "cell_type": "code",
   "execution_count": 57,
   "id": "09f99120-6632-4937-a485-6228c5f172bd",
   "metadata": {},
   "outputs": [
    {
     "data": {
      "text/plain": [
       "['List', 'and', 'Strings']"
      ]
     },
     "execution_count": 57,
     "metadata": {},
     "output_type": "execute_result"
    }
   ],
   "source": [
    "str2 = 'List and Strings'\n",
    "str2.split()"
   ]
  },
  {
   "cell_type": "code",
   "execution_count": 58,
   "id": "f0e524f0-58d1-4b66-8e92-fd3bb6f320cf",
   "metadata": {},
   "outputs": [
    {
     "data": {
      "text/plain": [
       "['state', 'of', 'the', 'art']"
      ]
     },
     "execution_count": 58,
     "metadata": {},
     "output_type": "execute_result"
    }
   ],
   "source": [
    "str3 = 'state-of-the-art'\n",
    "str3.split('-')"
   ]
  },
  {
   "cell_type": "code",
   "execution_count": null,
   "id": "53dba9ca-4815-4257-a154-85e2168464a3",
   "metadata": {},
   "outputs": [],
   "source": []
  },
  {
   "cell_type": "code",
   "execution_count": 59,
   "id": "e47157ef-1dbc-4795-80d9-c0bcfabed3ef",
   "metadata": {},
   "outputs": [],
   "source": [
    "### DICTIONARIES"
   ]
  },
  {
   "cell_type": "code",
   "execution_count": 60,
   "id": "3d6a3e7d-57fa-4823-8505-915370fcbdba",
   "metadata": {},
   "outputs": [
    {
     "name": "stdout",
     "output_type": "stream",
     "text": [
      "{}\n"
     ]
    }
   ],
   "source": [
    "countries_code = dict()\n",
    "print(countries_code)"
   ]
  },
  {
   "cell_type": "code",
   "execution_count": 61,
   "id": "644b38af-380f-4483-a62f-b1bd3fee23ec",
   "metadata": {},
   "outputs": [
    {
     "data": {
      "text/plain": [
       "dict"
      ]
     },
     "execution_count": 61,
     "metadata": {},
     "output_type": "execute_result"
    }
   ],
   "source": [
    "type(countries_code)"
   ]
  },
  {
   "cell_type": "code",
   "execution_count": 62,
   "id": "2a6a6f00-32df-4408-ad5a-e680eaf1800d",
   "metadata": {},
   "outputs": [
    {
     "data": {
      "text/plain": [
       "{'United States': 1}"
      ]
     },
     "execution_count": 62,
     "metadata": {},
     "output_type": "execute_result"
    }
   ],
   "source": [
    "countries_code['United States'] = 1\n",
    "countries_code"
   ]
  },
  {
   "cell_type": "code",
   "execution_count": 63,
   "id": "317e8fa0-d60a-49ce-877e-4f90f06c636a",
   "metadata": {},
   "outputs": [
    {
     "data": {
      "text/plain": [
       "{'United States': 1, 'China': 86, 'Rwanda': 250, 'Germany': 49, 'India': 91}"
      ]
     },
     "execution_count": 63,
     "metadata": {},
     "output_type": "execute_result"
    }
   ],
   "source": [
    "countries_code = {\n",
    "    'United States': 1,\n",
    "    'China': 86,\n",
    "    'Rwanda': 250,\n",
    "    'Germany': 49,\n",
    "    'India': 91,\n",
    "}\n",
    "\n",
    "countries_code"
   ]
  },
  {
   "cell_type": "code",
   "execution_count": 64,
   "id": "84d16a1a-c6da-4009-b699-b580df7c98fd",
   "metadata": {},
   "outputs": [],
   "source": [
    "countries_code['Australia'] = 61"
   ]
  },
  {
   "cell_type": "code",
   "execution_count": 65,
   "id": "4f0a2a26-9495-4f5d-8dce-18b5193675ba",
   "metadata": {},
   "outputs": [
    {
     "data": {
      "text/plain": [
       "{'United States': 1,\n",
       " 'China': 86,\n",
       " 'Rwanda': 250,\n",
       " 'Germany': 49,\n",
       " 'India': 91,\n",
       " 'Australia': 61}"
      ]
     },
     "execution_count": 65,
     "metadata": {},
     "output_type": "execute_result"
    }
   ],
   "source": [
    "countries_code"
   ]
  },
  {
   "cell_type": "code",
   "execution_count": 66,
   "id": "89af3120-c0f3-41e8-b57c-e68f097c732d",
   "metadata": {},
   "outputs": [
    {
     "data": {
      "text/plain": [
       "250"
      ]
     },
     "execution_count": 66,
     "metadata": {},
     "output_type": "execute_result"
    }
   ],
   "source": [
    "countries_code['Rwanda']"
   ]
  },
  {
   "cell_type": "code",
   "execution_count": 67,
   "id": "a453d4f6-0913-4d31-a663-667f7afb5d70",
   "metadata": {},
   "outputs": [
    {
     "data": {
      "text/plain": [
       "True"
      ]
     },
     "execution_count": 67,
     "metadata": {},
     "output_type": "execute_result"
    }
   ],
   "source": [
    "'India' in countries_code"
   ]
  },
  {
   "cell_type": "code",
   "execution_count": 68,
   "id": "e3b09de8-df18-4dfd-a58b-a26b38c1f370",
   "metadata": {},
   "outputs": [
    {
     "data": {
      "text/plain": [
       "False"
      ]
     },
     "execution_count": 68,
     "metadata": {},
     "output_type": "execute_result"
    }
   ],
   "source": [
    "'Singapore' in countries_code"
   ]
  },
  {
   "cell_type": "code",
   "execution_count": 69,
   "id": "8aeea239-7a63-4309-b3d6-04fb17039c5e",
   "metadata": {},
   "outputs": [
    {
     "name": "stdout",
     "output_type": "stream",
     "text": [
      "Keys: dict_keys(['United States', 'China', 'Rwanda', 'Germany', 'India', 'Australia'])\n",
      "Values: dict_values([1, 86, 250, 49, 91, 61])\n",
      "Items: dict_items([('United States', 1), ('China', 86), ('Rwanda', 250), ('Germany', 49), ('India', 91), ('Australia', 61)])\n"
     ]
    }
   ],
   "source": [
    "dict_keys = countries_code.keys()\n",
    "dict_values = countries_code.values()\n",
    "dict_items = countries_code.items()\n",
    "\n",
    "print(f'Keys: {dict_keys}\\nValues: {dict_values}\\nItems: {dict_items}')"
   ]
  },
  {
   "cell_type": "code",
   "execution_count": 70,
   "id": "ce698c7e-22ad-4cd5-b723-dc19101138d9",
   "metadata": {},
   "outputs": [
    {
     "data": {
      "text/plain": [
       "dict_keys"
      ]
     },
     "execution_count": 70,
     "metadata": {},
     "output_type": "execute_result"
    }
   ],
   "source": [
    "type(dict_keys)"
   ]
  },
  {
   "cell_type": "code",
   "execution_count": 71,
   "id": "c65815b3-5b79-4e08-ad4f-b8dbb1773296",
   "metadata": {},
   "outputs": [
    {
     "data": {
      "text/plain": [
       "dict_keys"
      ]
     },
     "execution_count": 71,
     "metadata": {},
     "output_type": "execute_result"
    }
   ],
   "source": [
    "type(countries_code.keys())"
   ]
  },
  {
   "cell_type": "code",
   "execution_count": 72,
   "id": "a4420a7b-1c46-4779-b5a0-f8ccc6829549",
   "metadata": {},
   "outputs": [
    {
     "data": {
      "text/plain": [
       "61"
      ]
     },
     "execution_count": 72,
     "metadata": {},
     "output_type": "execute_result"
    }
   ],
   "source": [
    "countries_code.get('Australia')"
   ]
  },
  {
   "cell_type": "code",
   "execution_count": 73,
   "id": "a49b3f08-f3e6-4962-aa21-9247ca2ce6aa",
   "metadata": {},
   "outputs": [
    {
     "name": "stdout",
     "output_type": "stream",
     "text": [
      "{'j': 10, 'd': 7}\n"
     ]
    }
   ],
   "source": [
    "stri = 'jdjjdjdjdjjdjdjdj'\n",
    "\n",
    "counts_dict = {}\n",
    "\n",
    "for c in stri:\n",
    "    if c not in counts_dict:\n",
    "        counts_dict[c] = 1\n",
    "    else:\n",
    "        counts_dict[c] += 1\n",
    "\n",
    "print(counts_dict)"
   ]
  },
  {
   "cell_type": "code",
   "execution_count": 74,
   "id": "207a6b95-6b7b-41cc-993c-dfd54f28ada1",
   "metadata": {},
   "outputs": [
    {
     "name": "stdout",
     "output_type": "stream",
     "text": [
      "{'j': 10, 'd': 7}\n"
     ]
    }
   ],
   "source": [
    "char_count = {}\n",
    "\n",
    "for c in stri:\n",
    "    char_count[c] = char_count.get(c, 0) + 1\n",
    "\n",
    "print(char_count)"
   ]
  },
  {
   "cell_type": "code",
   "execution_count": 75,
   "id": "980dd788-f1ad-4c92-9507-a121491f6708",
   "metadata": {},
   "outputs": [
    {
     "name": "stdout",
     "output_type": "stream",
     "text": [
      "{'A': 3, 'H': 4, 'S': 3}\n"
     ]
    }
   ],
   "source": [
    "stri = 'AAAHHSHSHS'\n",
    "\n",
    "char_count = {}\n",
    "\n",
    "for c in stri:\n",
    "    char_count.setdefault(c,0)\n",
    "    char_count[c] += 1\n",
    "\n",
    "print(char_count)"
   ]
  },
  {
   "cell_type": "code",
   "execution_count": 76,
   "id": "1a60d05c-dd1e-4eff-a82b-9815cbfbacdc",
   "metadata": {},
   "outputs": [
    {
     "data": {
      "text/plain": [
       "7"
      ]
     },
     "execution_count": 76,
     "metadata": {},
     "output_type": "execute_result"
    }
   ],
   "source": [
    "tup = (1,4,5,6,7,8)\n",
    "\n",
    "tup[4]"
   ]
  },
  {
   "cell_type": "code",
   "execution_count": 77,
   "id": "59729e12-e9c5-4dc2-9a38-f912e9568ef3",
   "metadata": {},
   "outputs": [
    {
     "data": {
      "text/plain": [
       "{1, 2, 3, 4, 5, 6, 7, 8}"
      ]
     },
     "execution_count": 77,
     "metadata": {},
     "output_type": "execute_result"
    }
   ],
   "source": [
    "set_1 = {1,2,3,4,5,6,7,8}\n",
    "set_1"
   ]
  },
  {
   "cell_type": "code",
   "execution_count": 78,
   "id": "80ef11da-5524-4ffb-a17b-45060f30861a",
   "metadata": {},
   "outputs": [
    {
     "data": {
      "text/plain": [
       "{1, 2, 3, 4, 5, 7, 8}"
      ]
     },
     "execution_count": 78,
     "metadata": {},
     "output_type": "execute_result"
    }
   ],
   "source": [
    "set_2 = {1,1,2,3,5,3,2,2,4,5,7,8,8,5}\n",
    "set_2"
   ]
  },
  {
   "cell_type": "code",
   "execution_count": null,
   "id": "eea940eb-acb1-415b-9b79-11257304403b",
   "metadata": {},
   "outputs": [],
   "source": []
  },
  {
   "cell_type": "code",
   "execution_count": 80,
   "id": "247f537f-1c2c-48a6-8b3e-acd3d4c805bc",
   "metadata": {},
   "outputs": [],
   "source": [
    "### CONTROL FLOW"
   ]
  },
  {
   "cell_type": "code",
   "execution_count": 81,
   "id": "4623d79d-b4be-4774-86cb-561910b67dcf",
   "metadata": {},
   "outputs": [
    {
     "name": "stdout",
     "output_type": "stream",
     "text": [
      "yesyes\n"
     ]
    }
   ],
   "source": [
    "if 1 > 2:\n",
    "    print('nono')\n",
    "else:\n",
    "    print('yesyes')"
   ]
  },
  {
   "cell_type": "code",
   "execution_count": 82,
   "id": "12bbbc0a-dd1c-40af-a65d-cc8e513d836b",
   "metadata": {},
   "outputs": [
    {
     "name": "stdout",
     "output_type": "stream",
     "text": [
      "maybemaybemaybemaybemaybemaybemaybemaybemaybemaybemaybemaybemaybemaybemaybemaybemaybemaybemaybemaybemaybemaybemaybemaybemaybemaybemaybemaybemaybemaybemaybemaybemaybemaybemaybemaybemaybemaybemaybemaybemaybemaybe\n"
     ]
    }
   ],
   "source": [
    "if 1 > 2:\n",
    "    print('no'*12)\n",
    "elif 1 < 2:\n",
    "    print('maybe'*42)\n",
    "else:\n",
    "    print('never'*11)"
   ]
  },
  {
   "cell_type": "code",
   "execution_count": 83,
   "id": "c3daf83e-8c93-45e9-98eb-727d056cf42d",
   "metadata": {},
   "outputs": [
    {
     "data": {
      "text/plain": [
       "'even'"
      ]
     },
     "execution_count": 83,
     "metadata": {},
     "output_type": "execute_result"
    }
   ],
   "source": [
    "num = 42\n",
    "\n",
    "'even' if num % 2 == 0 else 'odd'"
   ]
  },
  {
   "cell_type": "code",
   "execution_count": 84,
   "id": "6161f162-848c-450e-a9ac-4ed95769c0aa",
   "metadata": {},
   "outputs": [
    {
     "data": {
      "text/plain": [
       "True"
      ]
     },
     "execution_count": 84,
     "metadata": {},
     "output_type": "execute_result"
    }
   ],
   "source": [
    "nums = [1,2,3,4,5,6]\n",
    "\n",
    "True if 3 in nums else False"
   ]
  },
  {
   "cell_type": "code",
   "execution_count": 85,
   "id": "3b61f678-7eeb-4704-b9be-244b2dbc48d0",
   "metadata": {},
   "outputs": [
    {
     "name": "stdout",
     "output_type": "stream",
     "text": [
      "2\n",
      "4\n",
      "6\n",
      "8\n",
      "10\n"
     ]
    }
   ],
   "source": [
    "even_nums = [2,4,6,8,10]\n",
    "\n",
    "for num in even_nums:\n",
    "    print(num)"
   ]
  },
  {
   "cell_type": "code",
   "execution_count": 86,
   "id": "fda32314-5a1c-4f34-a6a8-162ef431c16b",
   "metadata": {},
   "outputs": [
    {
     "name": "stdout",
     "output_type": "stream",
     "text": [
      "Mon\n",
      "Tue\n",
      "Wed\n",
      "Thur\n",
      "Fri\n"
     ]
    }
   ],
   "source": [
    "week_days = ['Mon', 'Tue', 'Wed', 'Thur', 'Fri']\n",
    "\n",
    "for day in week_days:\n",
    "    print(day)"
   ]
  },
  {
   "cell_type": "code",
   "execution_count": 87,
   "id": "7aa67af1-0836-46d5-a0b2-3748f4172243",
   "metadata": {},
   "outputs": [
    {
     "name": "stdout",
     "output_type": "stream",
     "text": [
      "I\n",
      "t\n",
      "'\n",
      "s\n",
      " \n",
      "b\n",
      "e\n",
      "e\n",
      "n\n",
      " \n",
      "a\n",
      " \n",
      "l\n",
      "o\n",
      "n\n",
      "g\n",
      " \n",
      "t\n",
      "i\n",
      "m\n",
      "e\n",
      " \n",
      "l\n",
      "e\n",
      "a\n",
      "r\n",
      "n\n",
      "i\n",
      "n\n",
      "g\n",
      " \n",
      "P\n",
      "y\n",
      "t\n",
      "h\n",
      "o\n",
      "n\n",
      ".\n",
      " \n",
      "I\n",
      " \n",
      "a\n",
      "m\n",
      " \n",
      "r\n",
      "e\n",
      "v\n",
      "i\n",
      "s\n",
      "i\n",
      "t\n",
      "i\n",
      "n\n",
      "g\n",
      " \n",
      "t\n",
      "h\n",
      "e\n",
      " \n",
      "b\n",
      "a\n",
      "s\n",
      "i\n",
      "c\n",
      "s\n",
      "!\n",
      "!\n"
     ]
    }
   ],
   "source": [
    "sentence = \"It's been a long time learning Python. I am revisiting the basics!!\"\n",
    "\n",
    "for letter in sentence:\n",
    "    print(letter)"
   ]
  },
  {
   "cell_type": "code",
   "execution_count": 88,
   "id": "7677890e-d8c0-49d7-aca2-482bb2ebf9d6",
   "metadata": {},
   "outputs": [
    {
     "name": "stdout",
     "output_type": "stream",
     "text": [
      "It's\n",
      "been\n",
      "a\n",
      "long\n",
      "time\n",
      "learning\n",
      "Python.\n",
      "I\n",
      "am\n",
      "revisiting\n",
      "the\n",
      "basics!!\n"
     ]
    }
   ],
   "source": [
    "for letter in sentence.split():\n",
    "    print(letter)"
   ]
  },
  {
   "cell_type": "code",
   "execution_count": 89,
   "id": "cd2e7213-2842-4a36-920f-faa2c88a346f",
   "metadata": {},
   "outputs": [],
   "source": [
    "countries_code = { \"United States\": 1,\n",
    "                 \"India\": 91,\n",
    "                 \"Germany\": 49,\n",
    "                 \"China\": 86,\n",
    "                 \"Rwanda\":250\n",
    "            }"
   ]
  },
  {
   "cell_type": "code",
   "execution_count": 90,
   "id": "ede41cff-a48f-4a4e-a471-aff06b1e7449",
   "metadata": {},
   "outputs": [
    {
     "name": "stdout",
     "output_type": "stream",
     "text": [
      "United States\n",
      "India\n",
      "Germany\n",
      "China\n",
      "Rwanda\n"
     ]
    }
   ],
   "source": [
    "for country in countries_code:\n",
    "    print(country)"
   ]
  },
  {
   "cell_type": "code",
   "execution_count": 91,
   "id": "066f5c7a-a140-4038-9402-3c117c5db7ce",
   "metadata": {},
   "outputs": [
    {
     "name": "stdout",
     "output_type": "stream",
     "text": [
      "1\n",
      "91\n",
      "49\n",
      "86\n",
      "250\n"
     ]
    }
   ],
   "source": [
    "for code in countries_code.values():\n",
    "    print(code)"
   ]
  },
  {
   "cell_type": "code",
   "execution_count": 92,
   "id": "23bf560d-4f15-4d4d-b950-35b0aa9c9ec7",
   "metadata": {},
   "outputs": [
    {
     "name": "stdout",
     "output_type": "stream",
     "text": [
      "0\n",
      "1\n",
      "2\n",
      "3\n",
      "4\n",
      "5\n",
      "6\n",
      "7\n",
      "8\n",
      "9\n"
     ]
    }
   ],
   "source": [
    "for number in range(10):\n",
    "    print(number)"
   ]
  },
  {
   "cell_type": "code",
   "execution_count": 93,
   "id": "5e4104a0-80d4-4a50-bf72-282daf592a4e",
   "metadata": {},
   "outputs": [
    {
     "name": "stdout",
     "output_type": "stream",
     "text": [
      "10\n",
      "11\n",
      "12\n",
      "13\n",
      "14\n",
      "15\n",
      "16\n",
      "17\n",
      "18\n",
      "19\n"
     ]
    }
   ],
   "source": [
    "for number in range(10,20):\n",
    "    print(number)"
   ]
  },
  {
   "cell_type": "code",
   "execution_count": 94,
   "id": "8f40e848-d3d1-48fb-9b1f-f8e0b7d1257b",
   "metadata": {},
   "outputs": [],
   "source": [
    "letters = []\n",
    "\n",
    "for letter in 'MachineLearning':\n",
    "    letters.append(letter)"
   ]
  },
  {
   "cell_type": "code",
   "execution_count": 95,
   "id": "9f1e7353-99ce-45c3-b315-2719cd14d711",
   "metadata": {},
   "outputs": [
    {
     "data": {
      "text/plain": [
       "['M', 'a', 'c', 'h', 'i', 'n', 'e', 'L', 'e', 'a', 'r', 'n', 'i', 'n', 'g']"
      ]
     },
     "execution_count": 95,
     "metadata": {},
     "output_type": "execute_result"
    }
   ],
   "source": [
    "letters"
   ]
  },
  {
   "cell_type": "code",
   "execution_count": 96,
   "id": "c95d2171-5ad8-4645-a839-ab78d8544420",
   "metadata": {},
   "outputs": [
    {
     "name": "stdout",
     "output_type": "stream",
     "text": [
      "a is: 10\n",
      "a is: 11\n",
      "a is: 12\n",
      "a is: 13\n",
      "a is: 14\n",
      "a is: 15\n",
      "a is: 16\n",
      "a is: 17\n",
      "a is: 18\n",
      "a is: 19\n"
     ]
    }
   ],
   "source": [
    "a = 10\n",
    "while a < 20:\n",
    "    print('a is: {}'.format(a))\n",
    "    a = a + 1"
   ]
  },
  {
   "cell_type": "code",
   "execution_count": null,
   "id": "7f10e6c8-2b33-420f-9808-341ee77b146d",
   "metadata": {},
   "outputs": [],
   "source": []
  },
  {
   "cell_type": "code",
   "execution_count": 97,
   "id": "3942a25f-592e-439e-b8a7-363d88600169",
   "metadata": {},
   "outputs": [],
   "source": [
    "### FUNCTIONS"
   ]
  },
  {
   "cell_type": "code",
   "execution_count": 98,
   "id": "3b915409-f954-49b2-a2db-c517d98024f3",
   "metadata": {},
   "outputs": [],
   "source": [
    "def add_nums(a,b):\n",
    "    sum = a+b\n",
    "    return sum"
   ]
  },
  {
   "cell_type": "code",
   "execution_count": 99,
   "id": "8d3c079a-88a1-40f3-8f9a-674c0c3a021e",
   "metadata": {},
   "outputs": [
    {
     "data": {
      "text/plain": [
       "6"
      ]
     },
     "execution_count": 99,
     "metadata": {},
     "output_type": "execute_result"
    }
   ],
   "source": [
    "add_nums(2,4)"
   ]
  },
  {
   "cell_type": "code",
   "execution_count": 100,
   "id": "90463003-b634-4385-9f6f-ba18a9a91400",
   "metadata": {},
   "outputs": [
    {
     "data": {
      "text/plain": [
       "9"
      ]
     },
     "execution_count": 100,
     "metadata": {},
     "output_type": "execute_result"
    }
   ],
   "source": [
    "add_nums(4,5)"
   ]
  },
  {
   "cell_type": "code",
   "execution_count": 101,
   "id": "fa830c0c-93bf-4a3f-877a-1ef4200ff99e",
   "metadata": {},
   "outputs": [
    {
     "name": "stdout",
     "output_type": "stream",
     "text": [
      "None\n"
     ]
    }
   ],
   "source": [
    "print(add_nums.__doc__)"
   ]
  },
  {
   "cell_type": "code",
   "execution_count": 102,
   "id": "2329ccaf-016a-4ea0-9887-cfa00d58f0c9",
   "metadata": {},
   "outputs": [],
   "source": [
    "sumof2 = lambda c,d: c+d"
   ]
  },
  {
   "cell_type": "code",
   "execution_count": 103,
   "id": "fb9bf5b8-b3b3-45e8-a609-3b2a674aca5d",
   "metadata": {},
   "outputs": [
    {
     "data": {
      "text/plain": [
       "9"
      ]
     },
     "execution_count": 103,
     "metadata": {},
     "output_type": "execute_result"
    }
   ],
   "source": [
    "sumof2(4,5)"
   ]
  },
  {
   "cell_type": "code",
   "execution_count": null,
   "id": "08af0b39-fcc5-4c28-a937-d0e31ee4a6f9",
   "metadata": {},
   "outputs": [],
   "source": []
  },
  {
   "cell_type": "code",
   "execution_count": 104,
   "id": "fec5730a-6b8e-41ed-8c44-9f1936fb03c9",
   "metadata": {},
   "outputs": [],
   "source": [
    "### BUILTIN FUNCTIONS"
   ]
  },
  {
   "cell_type": "code",
   "execution_count": 105,
   "id": "e1e43904-9e82-4d49-8a6a-5351865e2d9e",
   "metadata": {},
   "outputs": [],
   "source": [
    "message = 'Do not give up!'"
   ]
  },
  {
   "cell_type": "code",
   "execution_count": 106,
   "id": "a0278eb4-031c-49e5-ba71-0c11eda47a7d",
   "metadata": {},
   "outputs": [
    {
     "data": {
      "text/plain": [
       "15"
      ]
     },
     "execution_count": 106,
     "metadata": {},
     "output_type": "execute_result"
    }
   ],
   "source": [
    "len(message)"
   ]
  },
  {
   "cell_type": "code",
   "execution_count": 107,
   "id": "c6671f86-232e-49ea-94b7-3f55749df0c7",
   "metadata": {},
   "outputs": [
    {
     "data": {
      "text/plain": [
       "7"
      ]
     },
     "execution_count": 107,
     "metadata": {},
     "output_type": "execute_result"
    }
   ],
   "source": [
    "odd_numbers = [1,3,5,7]\n",
    "max(odd_numbers)"
   ]
  },
  {
   "cell_type": "code",
   "execution_count": 108,
   "id": "b1a72566-7778-4c38-9d0f-e204e26ea5f4",
   "metadata": {},
   "outputs": [
    {
     "data": {
      "text/plain": [
       "2"
      ]
     },
     "execution_count": 108,
     "metadata": {},
     "output_type": "execute_result"
    }
   ],
   "source": [
    "max(1,2)"
   ]
  },
  {
   "cell_type": "code",
   "execution_count": 109,
   "id": "b4bba2ac-1eda-4a87-ac3f-ff4146292a49",
   "metadata": {},
   "outputs": [
    {
     "data": {
      "text/plain": [
       "3"
      ]
     },
     "execution_count": 109,
     "metadata": {},
     "output_type": "execute_result"
    }
   ],
   "source": [
    "max([1,2,3])"
   ]
  },
  {
   "cell_type": "code",
   "execution_count": 110,
   "id": "b0c8cf83-3d83-4e9e-9b98-8bb242e4e30e",
   "metadata": {},
   "outputs": [
    {
     "data": {
      "text/plain": [
       "[1, 3, 5, 7, 9, 11, 13, 15]"
      ]
     },
     "execution_count": 110,
     "metadata": {},
     "output_type": "execute_result"
    }
   ],
   "source": [
    "odd_numbers = [9,7,3,5,11,13,15,1]\n",
    "sorted(odd_numbers)"
   ]
  },
  {
   "cell_type": "code",
   "execution_count": 111,
   "id": "cc8a09b5-29d9-4d52-aa1c-e944204eb739",
   "metadata": {},
   "outputs": [],
   "source": [
    "def cubic(n):\n",
    "    return n ** 3"
   ]
  },
  {
   "cell_type": "code",
   "execution_count": 112,
   "id": "3f583f96-2906-4b33-9594-9251ce2ba95d",
   "metadata": {},
   "outputs": [],
   "source": [
    "num_list = [0,1,2,3,4]"
   ]
  },
  {
   "cell_type": "code",
   "execution_count": 113,
   "id": "9b5d87cb-5e84-436e-b737-6753b8ef5662",
   "metadata": {},
   "outputs": [
    {
     "data": {
      "text/plain": [
       "[0, 1, 8, 27, 64]"
      ]
     },
     "execution_count": 113,
     "metadata": {},
     "output_type": "execute_result"
    }
   ],
   "source": [
    "list(map(cubic, num_list))"
   ]
  },
  {
   "cell_type": "code",
   "execution_count": 114,
   "id": "f4ba2f3f-889d-43ce-9073-de5f45d4ae2b",
   "metadata": {},
   "outputs": [
    {
     "data": {
      "text/plain": [
       "<map at 0x77b403592ad0>"
      ]
     },
     "execution_count": 114,
     "metadata": {},
     "output_type": "execute_result"
    }
   ],
   "source": [
    "map(cubic, num_list)"
   ]
  },
  {
   "cell_type": "code",
   "execution_count": 115,
   "id": "a2b7dec5-24bb-4302-8bc4-ef2a15a3ba5c",
   "metadata": {},
   "outputs": [
    {
     "name": "stdout",
     "output_type": "stream",
     "text": [
      "<map object at 0x77b403591780>\n"
     ]
    }
   ],
   "source": [
    "print(map(cubic, num_list))"
   ]
  },
  {
   "cell_type": "code",
   "execution_count": 116,
   "id": "2beb7f45-ec35-4289-8132-2f8b930a931e",
   "metadata": {},
   "outputs": [
    {
     "ename": "TypeError",
     "evalue": "cannot convert dictionary update sequence element #0 to a sequence",
     "output_type": "error",
     "traceback": [
      "\u001b[0;31m---------------------------------------------------------------------------\u001b[0m",
      "\u001b[0;31mTypeError\u001b[0m                                 Traceback (most recent call last)",
      "Cell \u001b[0;32mIn[116], line 1\u001b[0m\n\u001b[0;32m----> 1\u001b[0m \u001b[38;5;28;43mdict\u001b[39;49m\u001b[43m(\u001b[49m\u001b[38;5;28;43mmap\u001b[39;49m\u001b[43m(\u001b[49m\u001b[43mcubic\u001b[49m\u001b[43m,\u001b[49m\u001b[43m \u001b[49m\u001b[43mnum_list\u001b[49m\u001b[43m)\u001b[49m\u001b[43m)\u001b[49m\n",
      "\u001b[0;31mTypeError\u001b[0m: cannot convert dictionary update sequence element #0 to a sequence"
     ]
    }
   ],
   "source": [
    "dict(map(cubic, num_list))"
   ]
  },
  {
   "cell_type": "code",
   "execution_count": 117,
   "id": "a1dc354d-0e7c-476d-bf9f-7b886f3ff781",
   "metadata": {},
   "outputs": [],
   "source": [
    "def is_odd(n):\n",
    "    return n%2 != 0"
   ]
  },
  {
   "cell_type": "code",
   "execution_count": 118,
   "id": "2af170e3-58ff-4e5a-91c8-6688c0d597d8",
   "metadata": {},
   "outputs": [
    {
     "data": {
      "text/plain": [
       "[1, 5, 7, 9, 11]"
      ]
     },
     "execution_count": 118,
     "metadata": {},
     "output_type": "execute_result"
    }
   ],
   "source": [
    "num_list = [1,2,4,5,6,7,8,9,10,11]\n",
    "list(filter(is_odd, num_list))"
   ]
  },
  {
   "cell_type": "code",
   "execution_count": null,
   "id": "3b9c82de-d257-4d5b-8c1a-3d0958adec25",
   "metadata": {},
   "outputs": [],
   "source": []
  },
  {
   "cell_type": "code",
   "execution_count": 119,
   "id": "3a6eeece-3714-48dc-a2f2-043c0f1b2e19",
   "metadata": {},
   "outputs": [],
   "source": [
    "### MORE USEFUL"
   ]
  },
  {
   "cell_type": "code",
   "execution_count": 120,
   "id": "b9c8a089-c451-40b9-bfb7-29a6388c89ca",
   "metadata": {},
   "outputs": [],
   "source": [
    "even_nums = [num for num in nums if num % 2 == 0]"
   ]
  },
  {
   "cell_type": "code",
   "execution_count": 121,
   "id": "77529b80-e654-489d-a5b4-0bd46932fd71",
   "metadata": {},
   "outputs": [
    {
     "name": "stdout",
     "output_type": "stream",
     "text": [
      "[2, 4, 6]\n"
     ]
    }
   ],
   "source": [
    "print(even_nums)"
   ]
  },
  {
   "cell_type": "code",
   "execution_count": 122,
   "id": "9fc69782-d18a-48f2-928b-8d5282bf8190",
   "metadata": {},
   "outputs": [],
   "source": [
    "nums = range(1,20)"
   ]
  },
  {
   "cell_type": "code",
   "execution_count": 123,
   "id": "e97e265c-e584-43d7-801f-c99751fa6202",
   "metadata": {},
   "outputs": [
    {
     "name": "stdout",
     "output_type": "stream",
     "text": [
      "[2, 4, 6, 8, 10, 12, 14, 16, 18]\n"
     ]
    }
   ],
   "source": [
    "even_nums = [num for num in nums if num % 2 == 0]\n",
    "print(even_nums)"
   ]
  },
  {
   "cell_type": "code",
   "execution_count": 126,
   "id": "ff3ed121-fe3d-4a14-a53c-e3bda97f26f3",
   "metadata": {},
   "outputs": [],
   "source": [
    "days = ['Monday', 'Tuesday', 'Wednesday', 'Thursday', 'Friday', 'Saturday']\n",
    "day_T = [day for day in days if day[0] == 'T']"
   ]
  },
  {
   "cell_type": "code",
   "execution_count": 127,
   "id": "1b711e2e-804c-49de-bc33-4f4efd09ed24",
   "metadata": {},
   "outputs": [
    {
     "name": "stdout",
     "output_type": "stream",
     "text": [
      "['Tuesday', 'Thursday']\n"
     ]
    }
   ],
   "source": [
    "print(day_T)"
   ]
  },
  {
   "cell_type": "code",
   "execution_count": 128,
   "id": "f9edb829-8f70-4ec6-895a-99a1d5227693",
   "metadata": {},
   "outputs": [
    {
     "data": {
      "text/plain": [
       "[(0, 'Spring'), (1, 'Summer'), (2, 'Fall'), (3, 'Winter')]"
      ]
     },
     "execution_count": 128,
     "metadata": {},
     "output_type": "execute_result"
    }
   ],
   "source": [
    "seasons = ['Spring', 'Summer', 'Fall', 'Winter']\n",
    "\n",
    "list(enumerate(seasons))"
   ]
  },
  {
   "cell_type": "code",
   "execution_count": 129,
   "id": "3324de40-76f6-41d9-b471-fe793bed1200",
   "metadata": {},
   "outputs": [
    {
     "data": {
      "text/plain": [
       "[(1, 'Spring'), (2, 'Summer'), (3, 'Fall'), (4, 'Winter')]"
      ]
     },
     "execution_count": 129,
     "metadata": {},
     "output_type": "execute_result"
    }
   ],
   "source": [
    "list(enumerate(seasons, start=1))"
   ]
  },
  {
   "cell_type": "code",
   "execution_count": 130,
   "id": "11d3f9d4-49e8-4b7f-836c-23f00b6206c9",
   "metadata": {},
   "outputs": [
    {
     "name": "stdout",
     "output_type": "stream",
     "text": [
      "0 - Rock\n",
      "1 - Paper\n",
      "2 - Scissor\n"
     ]
    }
   ],
   "source": [
    "class_names = ['Rock', 'Paper', 'Scissor']\n",
    "\n",
    "for index, class_name in enumerate(class_names, start=0):\n",
    "    print(index, '-', class_name)"
   ]
  },
  {
   "cell_type": "code",
   "execution_count": 131,
   "id": "3e640abb-5a6f-4b5c-a45c-554128e257dc",
   "metadata": {},
   "outputs": [
    {
     "data": {
      "text/plain": [
       "<zip at 0x77b4003ab680>"
      ]
     },
     "execution_count": 131,
     "metadata": {},
     "output_type": "execute_result"
    }
   ],
   "source": [
    "name = ['Jessy', 'Joe', 'Jeannette']\n",
    "role = ['ML Engineer', 'Web Developer', 'Data Engineer']\n",
    "\n",
    "zipped_name_role = zip(name, role)\n",
    "zipped_name_role"
   ]
  },
  {
   "cell_type": "code",
   "execution_count": 132,
   "id": "010509ee-2b4a-45c1-ad6c-b184a9c96254",
   "metadata": {},
   "outputs": [
    {
     "data": {
      "text/plain": [
       "[('Jessy', 'ML Engineer'),\n",
       " ('Joe', 'Web Developer'),\n",
       " ('Jeannette', 'Data Engineer')]"
      ]
     },
     "execution_count": 132,
     "metadata": {},
     "output_type": "execute_result"
    }
   ],
   "source": [
    "list(zipped_name_role)"
   ]
  },
  {
   "cell_type": "code",
   "execution_count": null,
   "id": "ddd45c5a-bafd-429d-928c-245e0fe80fd8",
   "metadata": {},
   "outputs": [],
   "source": []
  }
 ],
 "metadata": {
  "kernelspec": {
   "display_name": "Python 3 (ipykernel)",
   "language": "python",
   "name": "python3"
  },
  "language_info": {
   "codemirror_mode": {
    "name": "ipython",
    "version": 3
   },
   "file_extension": ".py",
   "mimetype": "text/x-python",
   "name": "python",
   "nbconvert_exporter": "python",
   "pygments_lexer": "ipython3",
   "version": "3.12.3"
  }
 },
 "nbformat": 4,
 "nbformat_minor": 5
}
